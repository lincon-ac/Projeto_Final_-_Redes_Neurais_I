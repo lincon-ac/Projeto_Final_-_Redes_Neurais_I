{
  "nbformat": 4,
  "nbformat_minor": 0,
  "metadata": {
    "colab": {
      "provenance": []
    },
    "kernelspec": {
      "name": "python3",
      "display_name": "Python 3"
    },
    "language_info": {
      "name": "python"
    }
  },
  "cells": [
    {
      "cell_type": "markdown",
      "source": [
        "```\n",
        "# Projeto de Detecção de Anomalias em Terminais de Loterias'**\n",
        "```\n",
        "\n",
        "# Os que têm nome de robô futurista\n",
        "\n",
        "1.   Willyam Rodrigo\n",
        "2.   Rafael Masashi\n",
        "3.   Macario Passalini\n",
        "4.   Matheus Boechat\n",
        "5.   Lincon Agrizzi\n",
        "6.   Gabriel Henrique\n",
        "\n",
        "\n"
      ],
      "metadata": {
        "id": "uQHnEHUwKeZc"
      }
    },
    {
      "cell_type": "markdown",
      "source": [
        "Upload DataSet: dados_loterias.csv"
      ],
      "metadata": {
        "id": "U8ig0JKkuqUN"
      }
    },
    {
      "cell_type": "code",
      "source": [
        "from google.colab import files\n",
        "uploaded = files.upload()"
      ],
      "metadata": {
        "colab": {
          "base_uri": "https://localhost:8080/",
          "height": 73
        },
        "collapsed": true,
        "id": "5JdlSTS9uF-b",
        "outputId": "4f8d23b3-b0e0-4748-8195-192a5e9dbd74"
      },
      "execution_count": 1,
      "outputs": [
        {
          "output_type": "display_data",
          "data": {
            "text/plain": [
              "<IPython.core.display.HTML object>"
            ],
            "text/html": [
              "\n",
              "     <input type=\"file\" id=\"files-d25e963c-5f11-4e1a-9a8a-dbae3bb9f5ba\" name=\"files[]\" multiple disabled\n",
              "        style=\"border:none\" />\n",
              "     <output id=\"result-d25e963c-5f11-4e1a-9a8a-dbae3bb9f5ba\">\n",
              "      Upload widget is only available when the cell has been executed in the\n",
              "      current browser session. Please rerun this cell to enable.\n",
              "      </output>\n",
              "      <script>// Copyright 2017 Google LLC\n",
              "//\n",
              "// Licensed under the Apache License, Version 2.0 (the \"License\");\n",
              "// you may not use this file except in compliance with the License.\n",
              "// You may obtain a copy of the License at\n",
              "//\n",
              "//      http://www.apache.org/licenses/LICENSE-2.0\n",
              "//\n",
              "// Unless required by applicable law or agreed to in writing, software\n",
              "// distributed under the License is distributed on an \"AS IS\" BASIS,\n",
              "// WITHOUT WARRANTIES OR CONDITIONS OF ANY KIND, either express or implied.\n",
              "// See the License for the specific language governing permissions and\n",
              "// limitations under the License.\n",
              "\n",
              "/**\n",
              " * @fileoverview Helpers for google.colab Python module.\n",
              " */\n",
              "(function(scope) {\n",
              "function span(text, styleAttributes = {}) {\n",
              "  const element = document.createElement('span');\n",
              "  element.textContent = text;\n",
              "  for (const key of Object.keys(styleAttributes)) {\n",
              "    element.style[key] = styleAttributes[key];\n",
              "  }\n",
              "  return element;\n",
              "}\n",
              "\n",
              "// Max number of bytes which will be uploaded at a time.\n",
              "const MAX_PAYLOAD_SIZE = 100 * 1024;\n",
              "\n",
              "function _uploadFiles(inputId, outputId) {\n",
              "  const steps = uploadFilesStep(inputId, outputId);\n",
              "  const outputElement = document.getElementById(outputId);\n",
              "  // Cache steps on the outputElement to make it available for the next call\n",
              "  // to uploadFilesContinue from Python.\n",
              "  outputElement.steps = steps;\n",
              "\n",
              "  return _uploadFilesContinue(outputId);\n",
              "}\n",
              "\n",
              "// This is roughly an async generator (not supported in the browser yet),\n",
              "// where there are multiple asynchronous steps and the Python side is going\n",
              "// to poll for completion of each step.\n",
              "// This uses a Promise to block the python side on completion of each step,\n",
              "// then passes the result of the previous step as the input to the next step.\n",
              "function _uploadFilesContinue(outputId) {\n",
              "  const outputElement = document.getElementById(outputId);\n",
              "  const steps = outputElement.steps;\n",
              "\n",
              "  const next = steps.next(outputElement.lastPromiseValue);\n",
              "  return Promise.resolve(next.value.promise).then((value) => {\n",
              "    // Cache the last promise value to make it available to the next\n",
              "    // step of the generator.\n",
              "    outputElement.lastPromiseValue = value;\n",
              "    return next.value.response;\n",
              "  });\n",
              "}\n",
              "\n",
              "/**\n",
              " * Generator function which is called between each async step of the upload\n",
              " * process.\n",
              " * @param {string} inputId Element ID of the input file picker element.\n",
              " * @param {string} outputId Element ID of the output display.\n",
              " * @return {!Iterable<!Object>} Iterable of next steps.\n",
              " */\n",
              "function* uploadFilesStep(inputId, outputId) {\n",
              "  const inputElement = document.getElementById(inputId);\n",
              "  inputElement.disabled = false;\n",
              "\n",
              "  const outputElement = document.getElementById(outputId);\n",
              "  outputElement.innerHTML = '';\n",
              "\n",
              "  const pickedPromise = new Promise((resolve) => {\n",
              "    inputElement.addEventListener('change', (e) => {\n",
              "      resolve(e.target.files);\n",
              "    });\n",
              "  });\n",
              "\n",
              "  const cancel = document.createElement('button');\n",
              "  inputElement.parentElement.appendChild(cancel);\n",
              "  cancel.textContent = 'Cancel upload';\n",
              "  const cancelPromise = new Promise((resolve) => {\n",
              "    cancel.onclick = () => {\n",
              "      resolve(null);\n",
              "    };\n",
              "  });\n",
              "\n",
              "  // Wait for the user to pick the files.\n",
              "  const files = yield {\n",
              "    promise: Promise.race([pickedPromise, cancelPromise]),\n",
              "    response: {\n",
              "      action: 'starting',\n",
              "    }\n",
              "  };\n",
              "\n",
              "  cancel.remove();\n",
              "\n",
              "  // Disable the input element since further picks are not allowed.\n",
              "  inputElement.disabled = true;\n",
              "\n",
              "  if (!files) {\n",
              "    return {\n",
              "      response: {\n",
              "        action: 'complete',\n",
              "      }\n",
              "    };\n",
              "  }\n",
              "\n",
              "  for (const file of files) {\n",
              "    const li = document.createElement('li');\n",
              "    li.append(span(file.name, {fontWeight: 'bold'}));\n",
              "    li.append(span(\n",
              "        `(${file.type || 'n/a'}) - ${file.size} bytes, ` +\n",
              "        `last modified: ${\n",
              "            file.lastModifiedDate ? file.lastModifiedDate.toLocaleDateString() :\n",
              "                                    'n/a'} - `));\n",
              "    const percent = span('0% done');\n",
              "    li.appendChild(percent);\n",
              "\n",
              "    outputElement.appendChild(li);\n",
              "\n",
              "    const fileDataPromise = new Promise((resolve) => {\n",
              "      const reader = new FileReader();\n",
              "      reader.onload = (e) => {\n",
              "        resolve(e.target.result);\n",
              "      };\n",
              "      reader.readAsArrayBuffer(file);\n",
              "    });\n",
              "    // Wait for the data to be ready.\n",
              "    let fileData = yield {\n",
              "      promise: fileDataPromise,\n",
              "      response: {\n",
              "        action: 'continue',\n",
              "      }\n",
              "    };\n",
              "\n",
              "    // Use a chunked sending to avoid message size limits. See b/62115660.\n",
              "    let position = 0;\n",
              "    do {\n",
              "      const length = Math.min(fileData.byteLength - position, MAX_PAYLOAD_SIZE);\n",
              "      const chunk = new Uint8Array(fileData, position, length);\n",
              "      position += length;\n",
              "\n",
              "      const base64 = btoa(String.fromCharCode.apply(null, chunk));\n",
              "      yield {\n",
              "        response: {\n",
              "          action: 'append',\n",
              "          file: file.name,\n",
              "          data: base64,\n",
              "        },\n",
              "      };\n",
              "\n",
              "      let percentDone = fileData.byteLength === 0 ?\n",
              "          100 :\n",
              "          Math.round((position / fileData.byteLength) * 100);\n",
              "      percent.textContent = `${percentDone}% done`;\n",
              "\n",
              "    } while (position < fileData.byteLength);\n",
              "  }\n",
              "\n",
              "  // All done.\n",
              "  yield {\n",
              "    response: {\n",
              "      action: 'complete',\n",
              "    }\n",
              "  };\n",
              "}\n",
              "\n",
              "scope.google = scope.google || {};\n",
              "scope.google.colab = scope.google.colab || {};\n",
              "scope.google.colab._files = {\n",
              "  _uploadFiles,\n",
              "  _uploadFilesContinue,\n",
              "};\n",
              "})(self);\n",
              "</script> "
            ]
          },
          "metadata": {}
        },
        {
          "output_type": "stream",
          "name": "stdout",
          "text": [
            "Saving dados_loterias.csv to dados_loterias.csv\n"
          ]
        }
      ]
    },
    {
      "cell_type": "markdown",
      "source": [
        "1. **Carregar e Pré-processar os Dados**"
      ],
      "metadata": {
        "id": "YlbaT4UVu5I9"
      }
    },
    {
      "cell_type": "code",
      "execution_count": 2,
      "metadata": {
        "colab": {
          "base_uri": "https://localhost:8080/"
        },
        "collapsed": true,
        "id": "xEhuBRmLsrfn",
        "outputId": "ff22507d-a92a-44a0-e5a3-5e9ed1287d42"
      },
      "outputs": [
        {
          "output_type": "stream",
          "name": "stdout",
          "text": [
            "ID_Terminal                 object\n",
            "Num_Transacoes               int64\n",
            "Valor_Total                float64\n",
            "Status_Conexao_Ativo         int64\n",
            "Status_Conexao_Falha         int64\n",
            "Status_Alarme_Disparado      int64\n",
            "Status_Alarme_Normal         int64\n",
            "dtype: object\n",
            "Passo 1: Pré-processamento concluído.\n"
          ]
        }
      ],
      "source": [
        "import pandas as pd\n",
        "import numpy as np\n",
        "import tensorflow as tf\n",
        "from tensorflow.keras.models import Sequential\n",
        "from tensorflow.keras.layers import LSTM, Dense, Input\n",
        "\n",
        "# --- 1. Carregar e Pré-processar os Dados (Corrigido) ---\n",
        "# A função parse_dates já converte a coluna 'Timestamp'.\n",
        "df = pd.read_csv('dados_loterias.csv', parse_dates=['Timestamp'])\n",
        "\n",
        "# Converte as colunas para o tipo numérico, garantindo que não haja problemas\n",
        "df['Num_Transacoes'] = pd.to_numeric(df['Num_Transacoes'], errors='coerce')\n",
        "df['Valor_Total'] = pd.to_numeric(df['Valor_Total'], errors='coerce')\n",
        "\n",
        "# Ordena os dados por terminal e por data/hora\n",
        "df = df.sort_values(by=['ID_Terminal', 'Timestamp'])\n",
        "\n",
        "# Codifica as colunas de texto para números.\n",
        "df = pd.get_dummies(df, columns=['Status_Conexao', 'Status_Alarme'], dtype=int)\n",
        "\n",
        "# --- Precisei excluir a coluna para antecipar futuros erros. AQUI ESTÁ A CORREÇÃO: Remova a coluna 'Timestamp' ---\n",
        "df = df.drop(columns=['Timestamp'])\n",
        "\n",
        "# Verifica os tipos de dados para confirmar a conversão\n",
        "print(df.dtypes)\n",
        "print(\"Passo 1: Pré-processamento concluído.\")\n"
      ]
    },
    {
      "cell_type": "markdown",
      "source": [
        "2. **Função para Criar as Sequências**"
      ],
      "metadata": {
        "id": "V5D4pup3u9cX"
      }
    },
    {
      "cell_type": "code",
      "source": [
        "# --- 2. Função para Criar as Sequências (Sem Alterações) ---\n",
        "def create_sequences(data, n_steps):\n",
        "    X, y = [], []\n",
        "    for terminal_id in data['ID_Terminal'].unique():\n",
        "        # A coluna ID_Terminal é removida aqui antes da conversão para float32.\n",
        "        terminal_data = data[data['ID_Terminal'] == terminal_id].drop(columns=['ID_Terminal']).copy()\n",
        "\n",
        "        # O modelo LSTM requer valores float32\n",
        "        terminal_data = terminal_data.astype('float32')\n",
        "\n",
        "        for i in range(len(terminal_data) - n_steps):\n",
        "            sequence = terminal_data.iloc[i:(i + n_steps)].values\n",
        "            target = terminal_data['Num_Transacoes'].iloc[i + n_steps]\n",
        "\n",
        "            X.append(sequence)\n",
        "            y.append(target)\n",
        "\n",
        "    return np.array(X), np.array(y)"
      ],
      "metadata": {
        "id": "6iSI9_F-vDDO"
      },
      "execution_count": 3,
      "outputs": []
    },
    {
      "cell_type": "markdown",
      "source": [
        "3. **Criação das Sequências a partir do DataFrame numérico**"
      ],
      "metadata": {
        "id": "USjBqVguvK7G"
      }
    },
    {
      "cell_type": "code",
      "source": [
        "# --- 3. Criação das Sequências a partir do DataFrame numérico ---\n",
        "n_steps = 3\n",
        "X, y = create_sequences(df, n_steps)\n",
        "\n",
        "print(f\"Passo 2: Sequências criadas. X.shape: {X.shape}, y.shape: {y.shape}\")"
      ],
      "metadata": {
        "colab": {
          "base_uri": "https://localhost:8080/"
        },
        "id": "5Mau1xy3vd8e",
        "outputId": "cec1ad83-1a30-49b1-86e3-3aba3057a990"
      },
      "execution_count": 4,
      "outputs": [
        {
          "output_type": "stream",
          "name": "stdout",
          "text": [
            "Passo 2: Sequências criadas. X.shape: (1352, 3, 6), y.shape: (1352,)\n"
          ]
        }
      ]
    },
    {
      "cell_type": "markdown",
      "source": [
        "4. **Construção e Treinamento do Modelo LSTM**"
      ],
      "metadata": {
        "id": "rpOgUK9owLED"
      }
    },
    {
      "cell_type": "code",
      "source": [
        "# --- 4. Construção e Treinamento do Modelo LSTM ---\n",
        "# As dimensões de entrada para o modelo LSTM são obtidas de X\n",
        "num_passos_de_tempo = X.shape[1]\n",
        "num_features = X.shape[2]"
      ],
      "metadata": {
        "id": "TuYuryydwLyj"
      },
      "execution_count": 5,
      "outputs": []
    },
    {
      "cell_type": "markdown",
      "source": [
        "**Cria Arquitetura do Modelo**"
      ],
      "metadata": {
        "id": "Tb5L_odPwUF-"
      }
    },
    {
      "cell_type": "code",
      "source": [
        "# Cria o modelo\n",
        "model = Sequential()\n",
        "# Adiciona a camada de entrada\n",
        "model.add(Input(shape=(num_passos_de_tempo, num_features)))\n",
        "# Adiciona a camada LSTM\n",
        "model.add(LSTM(10, activation='relu'))\n",
        "# Adiciona a camada de saída\n",
        "model.add(Dense(1))\n",
        "# Exibe o resumo da arquitetura\n",
        "model.summary()\n"
      ],
      "metadata": {
        "colab": {
          "base_uri": "https://localhost:8080/",
          "height": 196
        },
        "id": "0LZB6wwZwUXl",
        "outputId": "0c23ecb4-e4b6-43b0-c514-dfe109a2354c"
      },
      "execution_count": 6,
      "outputs": [
        {
          "output_type": "display_data",
          "data": {
            "text/plain": [
              "\u001b[1mModel: \"sequential\"\u001b[0m\n"
            ],
            "text/html": [
              "<pre style=\"white-space:pre;overflow-x:auto;line-height:normal;font-family:Menlo,'DejaVu Sans Mono',consolas,'Courier New',monospace\"><span style=\"font-weight: bold\">Model: \"sequential\"</span>\n",
              "</pre>\n"
            ]
          },
          "metadata": {}
        },
        {
          "output_type": "display_data",
          "data": {
            "text/plain": [
              "┏━━━━━━━━━━━━━━━━━━━━━━━━━━━━━━━━━┳━━━━━━━━━━━━━━━━━━━━━━━━┳━━━━━━━━━━━━━━━┓\n",
              "┃\u001b[1m \u001b[0m\u001b[1mLayer (type)                   \u001b[0m\u001b[1m \u001b[0m┃\u001b[1m \u001b[0m\u001b[1mOutput Shape          \u001b[0m\u001b[1m \u001b[0m┃\u001b[1m \u001b[0m\u001b[1m      Param #\u001b[0m\u001b[1m \u001b[0m┃\n",
              "┡━━━━━━━━━━━━━━━━━━━━━━━━━━━━━━━━━╇━━━━━━━━━━━━━━━━━━━━━━━━╇━━━━━━━━━━━━━━━┩\n",
              "│ lstm (\u001b[38;5;33mLSTM\u001b[0m)                     │ (\u001b[38;5;45mNone\u001b[0m, \u001b[38;5;34m10\u001b[0m)             │           \u001b[38;5;34m680\u001b[0m │\n",
              "├─────────────────────────────────┼────────────────────────┼───────────────┤\n",
              "│ dense (\u001b[38;5;33mDense\u001b[0m)                   │ (\u001b[38;5;45mNone\u001b[0m, \u001b[38;5;34m1\u001b[0m)              │            \u001b[38;5;34m11\u001b[0m │\n",
              "└─────────────────────────────────┴────────────────────────┴───────────────┘\n"
            ],
            "text/html": [
              "<pre style=\"white-space:pre;overflow-x:auto;line-height:normal;font-family:Menlo,'DejaVu Sans Mono',consolas,'Courier New',monospace\">┏━━━━━━━━━━━━━━━━━━━━━━━━━━━━━━━━━┳━━━━━━━━━━━━━━━━━━━━━━━━┳━━━━━━━━━━━━━━━┓\n",
              "┃<span style=\"font-weight: bold\"> Layer (type)                    </span>┃<span style=\"font-weight: bold\"> Output Shape           </span>┃<span style=\"font-weight: bold\">       Param # </span>┃\n",
              "┡━━━━━━━━━━━━━━━━━━━━━━━━━━━━━━━━━╇━━━━━━━━━━━━━━━━━━━━━━━━╇━━━━━━━━━━━━━━━┩\n",
              "│ lstm (<span style=\"color: #0087ff; text-decoration-color: #0087ff\">LSTM</span>)                     │ (<span style=\"color: #00d7ff; text-decoration-color: #00d7ff\">None</span>, <span style=\"color: #00af00; text-decoration-color: #00af00\">10</span>)             │           <span style=\"color: #00af00; text-decoration-color: #00af00\">680</span> │\n",
              "├─────────────────────────────────┼────────────────────────┼───────────────┤\n",
              "│ dense (<span style=\"color: #0087ff; text-decoration-color: #0087ff\">Dense</span>)                   │ (<span style=\"color: #00d7ff; text-decoration-color: #00d7ff\">None</span>, <span style=\"color: #00af00; text-decoration-color: #00af00\">1</span>)              │            <span style=\"color: #00af00; text-decoration-color: #00af00\">11</span> │\n",
              "└─────────────────────────────────┴────────────────────────┴───────────────┘\n",
              "</pre>\n"
            ]
          },
          "metadata": {}
        },
        {
          "output_type": "display_data",
          "data": {
            "text/plain": [
              "\u001b[1m Total params: \u001b[0m\u001b[38;5;34m691\u001b[0m (2.70 KB)\n"
            ],
            "text/html": [
              "<pre style=\"white-space:pre;overflow-x:auto;line-height:normal;font-family:Menlo,'DejaVu Sans Mono',consolas,'Courier New',monospace\"><span style=\"font-weight: bold\"> Total params: </span><span style=\"color: #00af00; text-decoration-color: #00af00\">691</span> (2.70 KB)\n",
              "</pre>\n"
            ]
          },
          "metadata": {}
        },
        {
          "output_type": "display_data",
          "data": {
            "text/plain": [
              "\u001b[1m Trainable params: \u001b[0m\u001b[38;5;34m691\u001b[0m (2.70 KB)\n"
            ],
            "text/html": [
              "<pre style=\"white-space:pre;overflow-x:auto;line-height:normal;font-family:Menlo,'DejaVu Sans Mono',consolas,'Courier New',monospace\"><span style=\"font-weight: bold\"> Trainable params: </span><span style=\"color: #00af00; text-decoration-color: #00af00\">691</span> (2.70 KB)\n",
              "</pre>\n"
            ]
          },
          "metadata": {}
        },
        {
          "output_type": "display_data",
          "data": {
            "text/plain": [
              "\u001b[1m Non-trainable params: \u001b[0m\u001b[38;5;34m0\u001b[0m (0.00 B)\n"
            ],
            "text/html": [
              "<pre style=\"white-space:pre;overflow-x:auto;line-height:normal;font-family:Menlo,'DejaVu Sans Mono',consolas,'Courier New',monospace\"><span style=\"font-weight: bold\"> Non-trainable params: </span><span style=\"color: #00af00; text-decoration-color: #00af00\">0</span> (0.00 B)\n",
              "</pre>\n"
            ]
          },
          "metadata": {}
        }
      ]
    },
    {
      "cell_type": "markdown",
      "source": [
        "**Compila o modelo**"
      ],
      "metadata": {
        "id": "LGTJsm-RwaI2"
      }
    },
    {
      "cell_type": "code",
      "source": [
        "# Compila o modelo\n",
        "model.compile(optimizer='adam', loss='mean_squared_error')"
      ],
      "metadata": {
        "id": "boetMxmLwfCv"
      },
      "execution_count": 7,
      "outputs": []
    },
    {
      "cell_type": "markdown",
      "source": [
        "**Treina o modelo**"
      ],
      "metadata": {
        "id": "dsAiINTswkR2"
      }
    },
    {
      "cell_type": "code",
      "source": [
        "# Treina o modelo.\n",
        "print(\"\\nPasso 3: Treinando o modelo...\")\n",
        "model.fit(X, y, epochs=10, batch_size=32, verbose=1)\n",
        "print(\"\\nTreinamento do modelo concluído com sucesso! 😎\")"
      ],
      "metadata": {
        "colab": {
          "base_uri": "https://localhost:8080/"
        },
        "id": "MSnjFTIKwnKG",
        "outputId": "1e8c387c-d06a-4896-c8a0-91f74dcc26c2"
      },
      "execution_count": 8,
      "outputs": [
        {
          "output_type": "stream",
          "name": "stdout",
          "text": [
            "\n",
            "Passo 3: Treinando o modelo...\n",
            "Epoch 1/10\n",
            "\u001b[1m43/43\u001b[0m \u001b[32m━━━━━━━━━━━━━━━━━━━━\u001b[0m\u001b[37m\u001b[0m \u001b[1m2s\u001b[0m 3ms/step - loss: 29467.8379\n",
            "Epoch 2/10\n",
            "\u001b[1m43/43\u001b[0m \u001b[32m━━━━━━━━━━━━━━━━━━━━\u001b[0m\u001b[37m\u001b[0m \u001b[1m0s\u001b[0m 3ms/step - loss: 9711.9121\n",
            "Epoch 3/10\n",
            "\u001b[1m43/43\u001b[0m \u001b[32m━━━━━━━━━━━━━━━━━━━━\u001b[0m\u001b[37m\u001b[0m \u001b[1m0s\u001b[0m 3ms/step - loss: 4735.7119\n",
            "Epoch 4/10\n",
            "\u001b[1m43/43\u001b[0m \u001b[32m━━━━━━━━━━━━━━━━━━━━\u001b[0m\u001b[37m\u001b[0m \u001b[1m0s\u001b[0m 3ms/step - loss: 4344.3398\n",
            "Epoch 5/10\n",
            "\u001b[1m43/43\u001b[0m \u001b[32m━━━━━━━━━━━━━━━━━━━━\u001b[0m\u001b[37m\u001b[0m \u001b[1m0s\u001b[0m 3ms/step - loss: 3973.0059\n",
            "Epoch 6/10\n",
            "\u001b[1m43/43\u001b[0m \u001b[32m━━━━━━━━━━━━━━━━━━━━\u001b[0m\u001b[37m\u001b[0m \u001b[1m0s\u001b[0m 3ms/step - loss: 3714.8513\n",
            "Epoch 7/10\n",
            "\u001b[1m43/43\u001b[0m \u001b[32m━━━━━━━━━━━━━━━━━━━━\u001b[0m\u001b[37m\u001b[0m \u001b[1m0s\u001b[0m 3ms/step - loss: 4477.0396\n",
            "Epoch 8/10\n",
            "\u001b[1m43/43\u001b[0m \u001b[32m━━━━━━━━━━━━━━━━━━━━\u001b[0m\u001b[37m\u001b[0m \u001b[1m0s\u001b[0m 3ms/step - loss: 3692.3108\n",
            "Epoch 9/10\n",
            "\u001b[1m43/43\u001b[0m \u001b[32m━━━━━━━━━━━━━━━━━━━━\u001b[0m\u001b[37m\u001b[0m \u001b[1m0s\u001b[0m 4ms/step - loss: 3409.6729\n",
            "Epoch 10/10\n",
            "\u001b[1m43/43\u001b[0m \u001b[32m━━━━━━━━━━━━━━━━━━━━\u001b[0m\u001b[37m\u001b[0m \u001b[1m0s\u001b[0m 3ms/step - loss: 3117.4121\n",
            "\n",
            "Treinamento do modelo concluído com sucesso! 😎\n"
          ]
        }
      ]
    },
    {
      "cell_type": "markdown",
      "source": [
        "# **`----- Detectar Anomalias -----`**"
      ],
      "metadata": {
        "id": "hpDZKZWHx_qI"
      }
    },
    {
      "cell_type": "markdown",
      "source": [
        "1. **Previsões usando o modelo treinado**"
      ],
      "metadata": {
        "id": "4GGe9gRDyHRn"
      }
    },
    {
      "cell_type": "code",
      "source": [
        "# Fazendo as previsões usando o modelo treinado\n",
        "previsoes = model.predict(X)\n",
        "\n",
        "print(\"Previsões geradas com sucesso.\")"
      ],
      "metadata": {
        "colab": {
          "base_uri": "https://localhost:8080/"
        },
        "id": "_1vvzNHkyUyP",
        "outputId": "26165aeb-0478-44a6-be6d-5498eaf7a27f"
      },
      "execution_count": 9,
      "outputs": [
        {
          "output_type": "stream",
          "name": "stdout",
          "text": [
            "\u001b[1m43/43\u001b[0m \u001b[32m━━━━━━━━━━━━━━━━━━━━\u001b[0m\u001b[37m\u001b[0m \u001b[1m0s\u001b[0m 5ms/step\n",
            "Previsões geradas com sucesso.\n"
          ]
        }
      ]
    },
    {
      "cell_type": "markdown",
      "source": [
        "\n",
        "\n",
        "```\n",
        "# Isto está formatado como código\n",
        "```\n",
        "\n",
        "2. ***Calculando o erro de prevsão***"
      ],
      "metadata": {
        "id": "P80gQ0k1yZvn"
      }
    },
    {
      "cell_type": "code",
      "source": [
        "import numpy as np\n",
        "\n",
        "# Acha o erro (diferença) entre o valor real e a previsão\n",
        "erros = np.mean(np.square(previsoes - y), axis=1)\n",
        "\n",
        "print(\"Erros de previsão calculados.\")"
      ],
      "metadata": {
        "id": "qkIecg7Ryd2X",
        "outputId": "53154307-b7b1-4d02-f14b-c8534c2d0d3a",
        "colab": {
          "base_uri": "https://localhost:8080/"
        }
      },
      "execution_count": 10,
      "outputs": [
        {
          "output_type": "stream",
          "name": "stdout",
          "text": [
            "Erros de previsão calculados.\n"
          ]
        }
      ]
    },
    {
      "cell_type": "markdown",
      "source": [
        "3. **Definindo o limiar de Anomalias e identificar Anomalias**"
      ],
      "metadata": {
        "id": "j-mAUXo0ymGo"
      }
    },
    {
      "cell_type": "code",
      "source": [
        "# Calcula a média e o desvio padrão dos erros\n",
        "limiar_erro = np.mean(erros) + 3 * np.std(erros)\n",
        "\n",
        "# Identifica os índices das sequências que têm um erro acima do limiar\n",
        "indices_anomalias = np.where(erros > limiar_erro)[0]\n",
        "\n",
        "print(f\"Limiar de anomalia definido: {limiar_erro:.2f}\")\n",
        "print(f\"Número de anomalias detectadas: {len(indices_anomalias)}\")"
      ],
      "metadata": {
        "colab": {
          "base_uri": "https://localhost:8080/"
        },
        "id": "CvZ7SGUoyw4f",
        "outputId": "6eb7d479-43bf-4726-8c3a-1a8bcd228359"
      },
      "execution_count": 11,
      "outputs": [
        {
          "output_type": "stream",
          "name": "stdout",
          "text": [
            "Limiar de anomalia definido: 21154.08\n",
            "Número de anomalias detectadas: 3\n"
          ]
        }
      ]
    },
    {
      "cell_type": "markdown",
      "source": [
        "4. **Exibindo os Dados de Anomalia**"
      ],
      "metadata": {
        "id": "WWNkP9IMy0_g"
      }
    },
    {
      "cell_type": "code",
      "source": [
        "# Cria uma cópia do DataFrame original para análise\n",
        "df_analise = df.copy()\n",
        "\n",
        "# Cria a nova coluna 'Erro_Previsao'\n",
        "df_analise['Erro_Previsao'] = np.nan\n",
        "\n",
        "# Usa o método .loc para atribuir os valores de erro, e preenche apenas os valores dos índices detectados.\n",
        "df_analise.loc[df_analise.index[indices_anomalias], 'Erro_Previsao'] = erros[indices_anomalias]\n",
        "\n",
        "# Cria a coluna final para identificar as anomalias com 1.\n",
        "df_analise['Anomalia_Prevista'] = (~df_analise['Erro_Previsao'].isna()).astype(int)\n",
        "\n",
        "# Filtra e mostra os resultados\n",
        "anomalias_detectadas = df_analise.loc[df_analise['Anomalia_Prevista'] == 1]\n",
        "print(\"Anomalias detectadas pela IA:\\n\")\n",
        "print(anomalias_detectadas)\n"
      ],
      "metadata": {
        "colab": {
          "base_uri": "https://localhost:8080/"
        },
        "id": "1kOD79FVy9RB",
        "outputId": "47197c7a-e065-4ba3-df9b-af66f7c4fdfb"
      },
      "execution_count": 12,
      "outputs": [
        {
          "output_type": "stream",
          "name": "stdout",
          "text": [
            "Anomalias detectadas pela IA:\n",
            "\n",
            "    ID_Terminal  Num_Transacoes  Valor_Total  Status_Conexao_Ativo  \\\n",
            "506       T-011              61   430.863568                     1   \n",
            "911       T-011              83   521.861171                     1   \n",
            "736       T-011              94   772.287799                     1   \n",
            "\n",
            "     Status_Conexao_Falha  Status_Alarme_Disparado  Status_Alarme_Normal  \\\n",
            "506                     0                        0                     1   \n",
            "911                     0                        0                     1   \n",
            "736                     0                        0                     1   \n",
            "\n",
            "     Erro_Previsao  Anomalia_Prevista  \n",
            "506   34886.007812                  1  \n",
            "911  158579.593750                  1  \n",
            "736  147795.921875                  1  \n"
          ]
        }
      ]
    }
  ]
}